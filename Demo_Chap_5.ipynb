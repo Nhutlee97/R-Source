{
 "cells": [
  {
   "cell_type": "markdown",
   "metadata": {},
   "source": [
    "# 1. Build-in fuction"
   ]
  },
  {
   "cell_type": "markdown",
   "metadata": {},
   "source": [
    "* Là các phương thức cung cấp sẵn\n",
    "* Fuction phải có argument"
   ]
  },
  {
   "cell_type": "code",
   "execution_count": 1,
   "metadata": {},
   "outputs": [
    {
     "data": {
      "text/plain": [
       "   Min. 1st Qu.  Median    Mean 3rd Qu.    Max. \n",
       "   1.00   25.75   50.50   50.50   75.25  100.00 "
      ]
     },
     "metadata": {},
     "output_type": "display_data"
    }
   ],
   "source": [
    "v <- c(1:100)\n",
    "summary(v)"
   ]
  },
  {
   "cell_type": "code",
   "execution_count": 2,
   "metadata": {},
   "outputs": [
    {
     "name": "stdout",
     "output_type": "stream",
     "text": [
      "[1] 5050\n"
     ]
    }
   ],
   "source": [
    "print(sum(v))"
   ]
  },
  {
   "cell_type": "markdown",
   "metadata": {},
   "source": [
    "* Package: Là các module dùng cho việc phân tích\n",
    "* Cài đặc trực tiếp: install.packages(\"tên_package\")\n",
    "* Để xem các package đã xài -> library()\n",
    "* Xem chú thích hàm help(function)\n",
    "* Xem ví dụ hàm example(function)"
   ]
  },
  {
   "cell_type": "code",
   "execution_count": 4,
   "metadata": {},
   "outputs": [],
   "source": [
    "# Show all Library\n",
    "library()"
   ]
  },
  {
   "cell_type": "code",
   "execution_count": 5,
   "metadata": {},
   "outputs": [],
   "source": [
    "help(summary)"
   ]
  },
  {
   "cell_type": "code",
   "execution_count": 6,
   "metadata": {},
   "outputs": [],
   "source": [
    "help(mean)"
   ]
  },
  {
   "cell_type": "code",
   "execution_count": 7,
   "metadata": {},
   "outputs": [
    {
     "name": "stdout",
     "output_type": "stream",
     "text": [
      "\n",
      "sum> ## Pass a vector to sum, and it will add the elements together.\n",
      "sum> sum(1:5)\n",
      "[1] 15\n",
      "\n",
      "sum> ## Pass several numbers to sum, and it also adds the elements.\n",
      "sum> sum(1, 2, 3, 4, 5)\n",
      "[1] 15\n",
      "\n",
      "sum> ## In fact, you can pass vectors into several arguments, and everything gets added.\n",
      "sum> sum(1:2, 3:5)\n",
      "[1] 15\n",
      "\n",
      "sum> ## If there are missing values, the sum is unknown, i.e., also missing, ....\n",
      "sum> sum(1:5, NA)\n",
      "[1] NA\n",
      "\n",
      "sum> ## ... unless  we exclude missing values explicitly:\n",
      "sum> sum(1:5, NA, na.rm = TRUE)\n",
      "[1] 15\n"
     ]
    }
   ],
   "source": [
    "# view example of function\n",
    "example(sum)"
   ]
  },
  {
   "cell_type": "code",
   "execution_count": 8,
   "metadata": {},
   "outputs": [
    {
     "name": "stdout",
     "output_type": "stream",
     "text": [
      "\n",
      "mean> x <- c(0:10, 50)\n",
      "\n",
      "mean> xm <- mean(x)\n",
      "\n",
      "mean> c(xm, mean(x, trim = 0.10))\n",
      "[1] 8.75 5.50\n"
     ]
    }
   ],
   "source": [
    "example(mean)"
   ]
  },
  {
   "cell_type": "markdown",
   "metadata": {},
   "source": [
    "# 2. User-defined function"
   ]
  },
  {
   "cell_type": "markdown",
   "metadata": {},
   "source": [
    "* Xây dựng để giải quyết 1 công việc nào đó\n",
    "* Được tận dụng các buil-in dunction\n",
    "* Cấu trúc\n",
    "<br> function_name <- function(arg_1, arg_2, ..){\n",
    "    <br> fuction body\n",
    "    <br> return(value)\n",
    "<br>}"
   ]
  },
  {
   "cell_type": "code",
   "execution_count": 30,
   "metadata": {},
   "outputs": [
    {
     "ename": "ERROR",
     "evalue": "Error in parse(text = x, srcfile = src): <text>:5:12: unexpected symbol\n4:     output <- c(BMI, result)\n5:     return output\n              ^\n",
     "output_type": "error",
     "traceback": [
      "Error in parse(text = x, srcfile = src): <text>:5:12: unexpected symbol\n4:     output <- c(BMI, result)\n5:     return output\n              ^\nTraceback:\n"
     ]
    }
   ],
   "source": [
    "cal_BMI <- function(height, weight, result){\n",
    "    BMI <- weight/(height^2)\n",
    "    result <- BMI\n",
    "    output <- c(BMI, result)\n",
    "    return output\n",
    "}"
   ]
  },
  {
   "cell_type": "code",
   "execution_count": 19,
   "metadata": {},
   "outputs": [
    {
     "name": "stdout",
     "output_type": "stream",
     "text": [
      "[1] 47.55556\n"
     ]
    }
   ],
   "source": [
    "height_m <- 1.5\n",
    "weight_m <- 107\n",
    "BMI.function <- c()\n",
    "BMI.function <- cal_BMI(height_m, weight_m, result)\n",
    "print(BMI.function[1])"
   ]
  },
  {
   "cell_type": "code",
   "execution_count": 24,
   "metadata": {},
   "outputs": [],
   "source": [
    "sum_even.function <- function(start, end){\n",
    "    sum_even <- 0\n",
    "    for(i in start:end){\n",
    "        if(i%%2 == 0){\n",
    "            sum_even <- sum_even + i\n",
    "        }\n",
    "    }\n",
    "    return(sum_even)\n",
    "}"
   ]
  },
  {
   "cell_type": "code",
   "execution_count": 25,
   "metadata": {},
   "outputs": [
    {
     "name": "stdout",
     "output_type": "stream",
     "text": [
      "[1] \"Sum of even number is 30\"\n"
     ]
    }
   ],
   "source": [
    "print(paste(\"Sum of even number is\", sum_even.function(1,10)))"
   ]
  },
  {
   "cell_type": "code",
   "execution_count": 26,
   "metadata": {},
   "outputs": [],
   "source": [
    "drink.function <- function(price, type = \"Tea\"){\n",
    "    print(paste(\"With\", price, \", you can drink\",type))\n",
    "}"
   ]
  },
  {
   "cell_type": "code",
   "execution_count": 27,
   "metadata": {},
   "outputs": [
    {
     "name": "stdout",
     "output_type": "stream",
     "text": [
      "[1] \"With 10000 , you can drink Tea\"\n",
      "[1] \"With 10000 , you can drink Coffer\"\n"
     ]
    }
   ],
   "source": [
    "drink.function(10000)\n",
    "drink.function(10000, \"Coffer\")"
   ]
  },
  {
   "cell_type": "code",
   "execution_count": null,
   "metadata": {},
   "outputs": [],
   "source": []
  }
 ],
 "metadata": {
  "kernelspec": {
   "display_name": "R",
   "language": "R",
   "name": "ir"
  },
  "language_info": {
   "codemirror_mode": "r",
   "file_extension": ".r",
   "mimetype": "text/x-r-source",
   "name": "R",
   "pygments_lexer": "r",
   "version": "4.0.2"
  }
 },
 "nbformat": 4,
 "nbformat_minor": 4
}
